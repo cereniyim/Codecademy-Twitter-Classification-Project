{
 "cells": [
  {
   "cell_type": "markdown",
   "metadata": {},
   "source": [
    "# Off-Platform Project: Viral Tweets\n",
    "\n",
    "In this project, we are going to use the K-Nearest Neighbor algorithm to predict whether a tweet will go viral. Before jumping into using the classifier, let's first consider the problem we're trying to solve. Which features of a tweet are most closely linked to its popularity? Maybe the number of hashtags or the number of links in the tweet strongly influences its popularity. Maybe its virality is dependent on how many followers the person has. Maybe it's something more subtle like the specific language used in the tweets.\n",
    "\n",
    "Let's explore these options by looking at the data we have available to us. We've imported the dataset and printed the following information:\n",
    "\n",
    "* The total number of tweets in the dataset.\n",
    "* The columns, or features, of the dataset.\n",
    "* The text of the first tweet in the dataset.\n",
    "\n",
    "Some of these features are dictionaries. For example, the feature `\"user\"` is a dictionary. We might want to use some of the information found in these sub-dictionaries. Print `all_tweets.loc[0][\"user\"]` to see what the `\"user\"` feature looks like.\n",
    "\n",
    "After printing that, try printing just the `\"location\"` found in that `\"user\"` dictionary. For example, `all_tweets.loc[0][\"user\"][\"screen_name\"]` would give you only the screen name associated with the first tweet."
   ]
  },
  {
   "cell_type": "code",
   "execution_count": 1,
   "metadata": {},
   "outputs": [
    {
     "name": "stdout",
     "output_type": "stream",
     "text": [
      "11099\n",
      "Index([u'contributors', u'coordinates', u'created_at', u'entities',\n",
      "       u'extended_entities', u'favorite_count', u'favorited', u'geo', u'id',\n",
      "       u'id_str', u'in_reply_to_screen_name', u'in_reply_to_status_id',\n",
      "       u'in_reply_to_status_id_str', u'in_reply_to_user_id',\n",
      "       u'in_reply_to_user_id_str', u'is_quote_status', u'lang', u'metadata',\n",
      "       u'place', u'possibly_sensitive', u'quoted_status', u'quoted_status_id',\n",
      "       u'quoted_status_id_str', u'retweet_count', u'retweeted',\n",
      "       u'retweeted_status', u'source', u'text', u'truncated', u'user',\n",
      "       u'withheld_in_countries'],\n",
      "      dtype='object')\n",
      "RT @KWWLStormTrack7: We are more than a month into summer but the days are getting shorter. The sunrise is about 25 minutes later on July 3…\n"
     ]
    }
   ],
   "source": [
    "import pandas as pd\n",
    "\n",
    "all_tweets = pd.read_json(\"random_tweets.json\", lines=True)\n",
    "\n",
    "print(len(all_tweets))\n",
    "print(all_tweets.columns)\n",
    "print(all_tweets.loc[0]['text'])\n",
    "\n",
    "#Print the user here and the user's location here.\n"
   ]
  },
  {
   "cell_type": "code",
   "execution_count": 2,
   "metadata": {},
   "outputs": [
    {
     "name": "stdout",
     "output_type": "stream",
     "text": [
      "   contributors coordinates          created_at  \\\n",
      "0           NaN        None 2018-07-31 13:34:40   \n",
      "1           NaN        None 2018-07-31 13:34:40   \n",
      "2           NaN        None 2018-07-31 13:34:40   \n",
      "3           NaN        None 2018-07-31 13:34:40   \n",
      "4           NaN        None 2018-07-31 13:34:40   \n",
      "\n",
      "                                            entities extended_entities  \\\n",
      "0  {u'symbols': [], u'user_mentions': [{u'id': 13...               NaN   \n",
      "1  {u'symbols': [], u'user_mentions': [{u'id': 92...               NaN   \n",
      "2  {u'symbols': [], u'user_mentions': [{u'id': 14...               NaN   \n",
      "3  {u'symbols': [], u'user_mentions': [{u'id': 25...               NaN   \n",
      "4  {u'symbols': [], u'user_mentions': [{u'id': 32...               NaN   \n",
      "\n",
      "   favorite_count  favorited   geo                   id               id_str  \\\n",
      "0               0      False  None  1024287229525598210  1024287229525598208   \n",
      "1               0      False  None  1024287229512953856  1024287229512953856   \n",
      "2               0      False  None  1024287229504569344  1024287229504569344   \n",
      "3               0      False  None  1024287229496029190  1024287229496029184   \n",
      "4               0      False  None  1024287229492031490  1024287229492031488   \n",
      "\n",
      "   ... quoted_status_id  quoted_status_id_str  retweet_count  retweeted  \\\n",
      "0  ...              NaN                   NaN              3      False   \n",
      "1  ...              NaN                   NaN              0      False   \n",
      "2  ...              NaN                   NaN              5      False   \n",
      "3  ...              NaN                   NaN          11106      False   \n",
      "4  ...              NaN                   NaN              6      False   \n",
      "\n",
      "                                    retweeted_status  \\\n",
      "0  {u'contributors': None, u'truncated': True, u'...   \n",
      "1                                                NaN   \n",
      "2  {u'contributors': None, u'truncated': True, u'...   \n",
      "3  {u'contributors': None, u'truncated': True, u'...   \n",
      "4  {u'contributors': None, u'truncated': True, u'...   \n",
      "\n",
      "                                              source  \\\n",
      "0  <a href=\"http://twitter.com/download/android\" ...   \n",
      "1  <a href=\"http://twitter.com/download/iphone\" r...   \n",
      "2  <a href=\"http://twitter.com/download/iphone\" r...   \n",
      "3  <a href=\"http://twitter.com/download/android\" ...   \n",
      "4  <a href=\"http://twitter.com/download/iphone\" r...   \n",
      "\n",
      "                                                text truncated  \\\n",
      "0  RT @KWWLStormTrack7: We are more than a month ...     False   \n",
      "1  @hail_ee23 Thanks love its just the feeling of...     False   \n",
      "2  RT @TransMediaWatch: Pink News has more on the...     False   \n",
      "3  RT @realDonaldTrump: One of the reasons we nee...     False   \n",
      "4  RT @First5App: This hearing of His Word doesn’...     False   \n",
      "\n",
      "                                                user  withheld_in_countries  \n",
      "0  {u'follow_request_sent': False, u'has_extended...                    NaN  \n",
      "1  {u'follow_request_sent': False, u'has_extended...                    NaN  \n",
      "2  {u'follow_request_sent': False, u'has_extended...                    NaN  \n",
      "3  {u'follow_request_sent': False, u'has_extended...                    NaN  \n",
      "4  {u'follow_request_sent': False, u'has_extended...                    NaN  \n",
      "\n",
      "[5 rows x 31 columns]\n"
     ]
    }
   ],
   "source": [
    "print(all_tweets.head())"
   ]
  },
  {
   "cell_type": "code",
   "execution_count": 31,
   "metadata": {},
   "outputs": [
    {
     "name": "stdout",
     "output_type": "stream",
     "text": [
      "0    RT @KWWLStormTrack7: We are more than a month ...\n",
      "1    @hail_ee23 Thanks love its just the feeling of...\n",
      "2    RT @TransMediaWatch: Pink News has more on the...\n",
      "3    RT @realDonaldTrump: One of the reasons we nee...\n",
      "4    RT @First5App: This hearing of His Word doesn’...\n",
      "Name: text, dtype: object\n"
     ]
    }
   ],
   "source": [
    "print(all_tweets.text.head())"
   ]
  },
  {
   "cell_type": "markdown",
   "metadata": {},
   "source": [
    "# Defining Viral Tweets\n",
    "\n",
    "A K-Nearest Neighbor classifier is a supervised machine learning algorithm, and as a result, we need to have a dataset with tagged labels. For this specific example, we need a dataset where every tweet is marked as viral or not viral. Unfortunately, this isn't a feature of our dataset &mdash; we'll need to make it ourselves.\n",
    "\n",
    "So how do we define a viral tweet? A good place to start is to look at the number of retweets the tweet has. This can be found using the feature `\"retweet_count\"`. Let's say we wanted to create a column called `is_viral` that is a `1` if the tweet had more than `5` retweets and `0` otherwise. We could do that like this:\n",
    "\n",
    "```py\n",
    "all_tweets['is_viral'] = np.where(all_tweets['retweet_count'] > 5, 1, 0)\n",
    "```\n",
    "\n",
    "Instead of using `5` as the benchmark for a viral tweet, let's use the median number of retweets. You can find that by calling the `median()` function on `all_tweets[\"retweet_count\"]`. Print the median number of retweets to understand what this threshold is.\n",
    "\n",
    "Print the number of viral tweets and non-viral tweets. You can do this using `all_tweets['is_viral'].value_counts()`.\n",
    "\n",
    "After finishing this project, consider coming back and playing with this threshold number. How do you think your model would work if it was trying to find incredibly viral tweets? For example, how would it work if it were looking for tweets with 1000 or more retweets?"
   ]
  },
  {
   "cell_type": "code",
   "execution_count": 7,
   "metadata": {},
   "outputs": [
    {
     "name": "stdout",
     "output_type": "stream",
     "text": [
      "1    5591\n",
      "0    5508\n",
      "Name: is_viral, dtype: int64\n"
     ]
    }
   ],
   "source": [
    "import numpy as np\n",
    "all_tweets[\"is_viral\"] = all_tweets.retweet_count.apply(\n",
    "    lambda row: 1 if row >= all_tweets.retweet_count.median()  else 0)\n",
    "\n",
    "print(all_tweets.is_viral.value_counts())\n",
    "# all_tweets.retweet_count.median()"
   ]
  },
  {
   "cell_type": "markdown",
   "metadata": {},
   "source": [
    "# Making Features\n",
    "\n",
    "Now that we've created a label for every tweet in our dataset, we can begin thinking about which features might determine whether a tweet is viral. We can create new columns in our dataset to represent these features. For example, let's say we think the length of a tweet might be a valuable feature. The following line creates a new column containing the length of the tweet.\n",
    "\n",
    "```py\n",
    "all_tweets['tweet_length'] = all_tweets.apply(lambda tweet: len(tweet['text']), axis=1)\n",
    "```\n",
    "\n",
    "Setting `axis = 1` creates a new column rather than a new row.\n",
    "\n",
    "Create a new column called `followers_count` that contains the number of followers of each user. You can find this information in `tweet['user']['followers_count']`. Do the same for `friends_count`.\n",
    "\n",
    "For the rest of this project, we will be using these three features, but we encourage you to create your own. Here are some potential ideas for more features.\n",
    "\n",
    "* The number of hashtags in the tweet. You can find this by looking at the `text` of the tweet and using the `.count()` function with `#` as a parameter.\n",
    "* The number of links in the tweet. Using a similar strategy to the one above, use `.count()` to count the number of times `http` appears in the tweet.\n",
    "* The number of words in the tweet. Call `.split()` on the `text` of a tweet. This will give you a list of the words in the tweet. Find the length of that list.\n",
    "* The average length of the words in the tweet."
   ]
  },
  {
   "cell_type": "code",
   "execution_count": 43,
   "metadata": {},
   "outputs": [],
   "source": [
    "all_tweets['tweet_length'] = all_tweets.apply(lambda tweet: len(tweet['text']), axis=1)\n",
    "all_tweets[\"followers_count\"] = all_tweets.apply(lambda tweet: tweet.user[\"followers_count\"], axis=1)\n",
    "all_tweets[\"friends_count\"] = all_tweets.apply(lambda tweet: tweet.user[\"friends_count\"], axis=1)\n",
    "\n",
    "all_tweets[\"hashtag_count\"] = all_tweets.apply(lambda tweet: tweet.text.count(\"#\"), axis=1)\n",
    "all_tweets[\"link_count\"] = all_tweets.apply(lambda tweet: tweet.text.count(\"http\"), axis=1)\n",
    "all_tweets[\"word_count\"] = all_tweets.apply(lambda tweet: len(tweet.text.split()), axis=1)\n",
    "\n",
    "def find_avg_word_length(str):\n",
    "    #function to find average word length of a string\n",
    "    sum = 0\n",
    "    for i in range(0, len(s.split())):\n",
    "        sum = sum + len(s.split()[i])\n",
    "    avg = sum/len(s.split())\n",
    "    return avg\n",
    "\n",
    "all_tweets[\"avg_length_of_words\"] = all_tweets.text.apply(find_avg_word_length)"
   ]
  },
  {
   "cell_type": "markdown",
   "metadata": {},
   "source": [
    "# Normalizing The Data\n",
    "\n",
    "We've now made the columns that we want to feed into our classifier. Let's get rid of all the data that is no longer relevant. Create a variable named `labels` and set it equal to the `'is_viral'` column of all_tweets.\n",
    "\n",
    "If we had a dataframe named `df` we could get a single column named `A` like this:\n",
    "\n",
    "```py\n",
    "one_column = df['A']\n",
    "```\n",
    "\n",
    "Create a variable named `data` and set it equal to all of the columns that you created in the last step. Those columns are `tweet_length`, `followers_count`, and `friends_count`.\n",
    "\n",
    "When selecting multiple columns, the names of the columns should be in a list. Check out the example below to see how to select column `A` *and* `B`:\n",
    "\n",
    "```py\n",
    "features = df[['A', 'B']]\n",
    "```\n",
    "\n",
    "Now create a new variable named `scaled_data`. `scaled_data` should be the result of the `scale` function with `data` as a parameter. Also include the parameter `axis = 0`. This scales the *columns* as opposed to the rows.\n",
    "\n",
    "The scale function will normalize the data so all of the features will vary within the same range.\n",
    "\n",
    "Print `scaled_data[0]` to get a sense of what our data looks like."
   ]
  },
  {
   "cell_type": "code",
   "execution_count": 66,
   "metadata": {},
   "outputs": [
    {
     "name": "stdout",
     "output_type": "stream",
     "text": [
      "tweet_length       140\n",
      "followers_count    215\n",
      "friends_count      335\n",
      "Name: 0, dtype: int64\n",
      "[ 0.6164054  -0.02878298 -0.14483305]\n"
     ]
    },
    {
     "name": "stderr",
     "output_type": "stream",
     "text": [
      "/home/cereyniyim/miniconda2/lib/python2.7/site-packages/ipykernel_launcher.py:5: DataConversionWarning: Data with input dtype int64 were all converted to float64 by the scale function.\n",
      "  \"\"\"\n",
      "/home/cereyniyim/miniconda2/lib/python2.7/site-packages/ipykernel_launcher.py:8: DataConversionWarning: Data with input dtype int64 were all converted to float64 by the scale function.\n",
      "  \n"
     ]
    }
   ],
   "source": [
    "from sklearn.preprocessing import scale\n",
    "\n",
    "labels = all_tweets[[\"is_viral\"]]\n",
    "features = all_tweets[[\"tweet_length\", \"followers_count\", \"friends_count\"]]\n",
    "scaled_features = scale(features, axis=0)\n",
    "\n",
    "features2 = all_tweets[[\"tweet_length\", \"followers_count\", \"friends_count\", \"hashtag_count\", \"link_count\", \"word_count\", \"favorite_count\"]]\n",
    "scaled_features2 = scale(features2, axis=0)\n",
    "\n",
    "print(features.loc[0])\n",
    "print(scaled_features[0])"
   ]
  },
  {
   "cell_type": "markdown",
   "metadata": {},
   "source": [
    "# Creating the Training Set and Test Set\n",
    "\n",
    "To evaluate the effectiveness of our classifier, we now split `scaled_data` and `labels` into a training set and test set using scikit-learn's `train_test_split` function. This function takes two required parameters: It takes the data, followed by the labels. Set the optional parameter `test_size` to be `0.2`. You can also set the `random_state` parameter so your code will randomly split the data in the same way as our solution code splits the data. We used `random_state = 1`. Remember, this function returns 4 items in this order:\n",
    "\n",
    "1. The training data\n",
    "2. The testing data\n",
    "3. The training labels\n",
    "4. The testing labels\n",
    "\n",
    "Store the results in variables named `train_data`, `test_data`, `train_labels`, and `test_labels`."
   ]
  },
  {
   "cell_type": "code",
   "execution_count": 67,
   "metadata": {},
   "outputs": [],
   "source": [
    "from sklearn.model_selection import train_test_split\n",
    "\n",
    "train_data, test_data, train_labels, test_labels = train_test_split(scaled_features2, labels, \n",
    "                                                                    test_size = 0.2,\n",
    "                                                                    random_state=1)"
   ]
  },
  {
   "cell_type": "markdown",
   "metadata": {},
   "source": [
    "# Using the Classifier\n",
    "\n",
    "We can finally use the K-Nearest Neighbor classifier. Let's test it using `k = 5`. Begin by creating a `KNeighborsClassifier` object named `classifier` with the parameter `n_neighbors` equal to `5`.\n",
    "\n",
    "Next, train `classifier` by calling the `.fit()` method with `train_data` and `train_labels` as parameters.\n",
    "\n",
    "Finally, let's test the model! Call `classifier`'s `.score()` method using `test_data` and `test_labels` as parameters. Print the results.\n"
   ]
  },
  {
   "cell_type": "code",
   "execution_count": 68,
   "metadata": {},
   "outputs": [
    {
     "name": "stderr",
     "output_type": "stream",
     "text": [
      "/home/cereyniyim/miniconda2/lib/python2.7/site-packages/ipykernel_launcher.py:4: DataConversionWarning: A column-vector y was passed when a 1d array was expected. Please change the shape of y to (n_samples, ), for example using ravel().\n",
      "  after removing the cwd from sys.path.\n"
     ]
    },
    {
     "data": {
      "text/plain": [
       "0.7207207207207207"
      ]
     },
     "execution_count": 68,
     "metadata": {},
     "output_type": "execute_result"
    }
   ],
   "source": [
    "from sklearn.neighbors import KNeighborsClassifier\n",
    "\n",
    "classifier = KNeighborsClassifier(n_neighbors = 5)\n",
    "classifier.fit(train_data, train_labels)\n",
    "classifier.score(test_data, test_labels)"
   ]
  },
  {
   "cell_type": "markdown",
   "metadata": {},
   "source": [
    "# Choosing K\n",
    "\n",
    "We've tested our classifier with `k = 5`, but maybe there's a `k` that will work better. Let's test many different values for `k` and graph the results. \n",
    "\n",
    "First, create an empty list called `scores`. Next, create a for loop that has a variable `k` that begins at `1` and ends at `200`.\n",
    "\n",
    "Inside the for loop, create a `KNeighobrsClassifier` object named `classifier` with the parameter `n_neighbors` equal to `k`.\n",
    "\n",
    "Train `classifier` by calling the `.fit()` method with `train_data` and `train_labels` as parameters.\n",
    "\n",
    "Next, let's test the model! Call `classifier`'s `.score()` method using `test_data` and `test_labels` as parameters. `append` the result to `scores`.\n",
    "\n",
    "Finally, let's plot the results. Outside of the loop, use Matplotlib's `plot()` function. `plot()` takes two parameters &mdash; the data on the x-axis and the data on the y-axis. Data on the x-axis should be the values we used for `k`. In this case, `range(1,200)`.  Data on the y-axis should be `scores`. Make sure to call the `plt.show()` function after calling `plt.plot()`. This should take a couple of seconds to run!"
   ]
  },
  {
   "cell_type": "code",
   "execution_count": 69,
   "metadata": {},
   "outputs": [
    {
     "name": "stderr",
     "output_type": "stream",
     "text": [
      "/home/cereyniyim/miniconda2/lib/python2.7/site-packages/ipykernel_launcher.py:7: DataConversionWarning: A column-vector y was passed when a 1d array was expected. Please change the shape of y to (n_samples, ), for example using ravel().\n",
      "  import sys\n"
     ]
    },
    {
     "data": {
      "image/png": "[encoded data removed]",
      "text/plain": [
       "<Figure size 432x288 with 1 Axes>"
      ]
     },
     "metadata": {
      "needs_background": "light"
     },
     "output_type": "display_data"
    }
   ],
   "source": [
    "import matplotlib.pyplot as plt\n",
    "\n",
    "scores = []\n",
    "\n",
    "for k in range(1, 200):\n",
    "    classifier = KNeighborsClassifier(n_neighbors = k)\n",
    "    classifier.fit(train_data, train_labels)\n",
    "    scores.append(classifier.score(test_data, test_labels))\n",
    "\n",
    "plt.plot(range(1,200), scores)\n",
    "plt.show()"
   ]
  },
  {
   "cell_type": "code",
   "execution_count": 72,
   "metadata": {},
   "outputs": [
    {
     "name": "stderr",
     "output_type": "stream",
     "text": [
      "/home/cereyniyim/miniconda2/lib/python2.7/site-packages/ipykernel_launcher.py:8: DataConversionWarning: A column-vector y was passed when a 1d array was expected. Please change the shape of y to (n_samples, ), for example using ravel().\n",
      "  \n"
     ]
    },
    {
     "name": "stdout",
     "output_type": "stream",
     "text": [
      "17\n",
      "0.7427927927927928\n"
     ]
    }
   ],
   "source": [
    "#lets find best_k\n",
    "\n",
    "best_score = 0\n",
    "best_k = 0\n",
    "\n",
    "for k in range(1, 200):\n",
    "    classifier = KNeighborsClassifier(n_neighbors = k)\n",
    "    classifier.fit(train_data, train_labels)\n",
    "    if classifier.score(test_data, test_labels) > best_score:\n",
    "        best_score = classifier.score(test_data, test_labels)\n",
    "        best_k = k\n",
    "\n",
    "print(best_k)\n",
    "print(best_score)"
   ]
  },
  {
   "cell_type": "markdown",
   "metadata": {},
   "source": [
    "when we add more features our model become more accurate"
   ]
  },
  {
   "cell_type": "markdown",
   "metadata": {},
   "source": [
    "# Explore on your own\n",
    "\n",
    "Nice work! You can see the classifier gets better as `k` increases, but as `k` gets too high, underfitting starts to happen.\n",
    "\n",
    "By using the features `tweet_length`, `followers_count`, and `friends_count`, we were able to get up to around 63% accuracy. That is better than random, but still not exceptional. Can you find some different features that perform better? Share your graphs with us on Twitter and maybe it will go viral!"
   ]
  }
 ],
 "metadata": {
  "kernelspec": {
   "display_name": "Python 2",
   "language": "python",
   "name": "python2"
  },
  "language_info": {
   "codemirror_mode": {
    "name": "ipython",
    "version": 2
   },
   "file_extension": ".py",
   "mimetype": "text/x-python",
   "name": "python",
   "nbconvert_exporter": "python",
   "pygments_lexer": "ipython2",
   "version": "2.7.16"
  }
 },
 "nbformat": 4,
 "nbformat_minor": 2
}
